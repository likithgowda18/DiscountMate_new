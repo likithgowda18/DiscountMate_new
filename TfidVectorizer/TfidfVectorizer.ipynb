{
 "cells": [
  {
   "cell_type": "code",
   "execution_count": 1,
   "metadata": {},
   "outputs": [],
   "source": [
    "import pandas as pd\n",
    "from sklearn.metrics.pairwise import cosine_similarity\n",
    "from sklearn.feature_extraction.text import TfidfVectorizer"
   ]
  },
  {
   "cell_type": "code",
   "execution_count": 2,
   "metadata": {},
   "outputs": [],
   "source": [
    "data = {\n",
    "  \"Product_Name\": [\"RSPCA Approved Chicken Livers\",\"RSPCA Approved Chicken Giblets\",\"RSPCA Approved Chicken Frames\",\"Creme Gold Washed Potatoes Loose\",\n",
    "                   \"Baby White Potatoes Prepacked\",\"Potatoes Prepacked\",\"Happy Gut Wholemeal\",\"Low Carb Bread\",\"Happy Gut Multigrain\"],  \n",
    "  \"Category\": [\"Meat & seafood\", \"Meat & seafood\",\"Meat & seafood\",\"Fruit & vegetables\",\"Fruit & vegetables\",\"Fruit & vegetables\",\"Bakery\",\"Bakery\",\"Bakery\"],\n",
    "  \"Sub_category\": [\"Poultry\", \"Poultry\",\"Poultry\",\"Vegetables\", \"Vegetables\", \"Vegetables\",\"Packaged Breads\",\"Packaged Breads\",\"Packaged Breads\"],\n",
    "  \"Product_Group\": [\"Chicken offal\", \"Chicken offal\", \"Chicken offal\",\"Potatoes\",\"Potatoes\",\"Potatoes\",\"Digestive Health & Speciality Bread\",\n",
    "                    \"Digestive Health & Speciality Bread\",\"Digestive Health & Speciality Bread\"],\n",
    "  \"Brand\": [\"Coles\",\"Coles\",\"Coles\",\"Coles\",\"Coles\",\"Spud Lite\",\"Coles\",\"Herman Brot\",\"Coles\"],\n",
    "  \"Sku\": [\"1718058P\",\"2565429P\",\"3199541P\",\"1182162P\",\"2488485P\",\"3026441P\",\"4727962P\",\"4654122P\",\"4727995P\"]\n",
    "}\n",
    "\n",
    "df = pd.DataFrame(data)\n",
    "\n",
    "# combining features to create a single feature string\n",
    "df['combined_features'] = df['Category'] + ' ' + df['Sub_category'] + ' ' + df['Product_Group'] + ' ' + df['Brand']\n",
    "\n",
    "# initializing TfidfVectorizer to convert text data into numerical vectors\n",
    "tfidf_vectorizer = TfidfVectorizer()\n",
    "\n",
    "# fitting and transforming the combined features to TF-IDF vectors\n",
    "tfidf_matrix = tfidf_vectorizer.fit_transform(df['combined_features'])\n",
    "\n",
    "# cosine similarity matrix\n",
    "cosine_sim = cosine_similarity(tfidf_matrix, tfidf_matrix)\n",
    "\n",
    "# function to recommend similar products\n",
    "def recommend_products(product_name, cosine_sim=cosine_sim):\n",
    "    # index of the product that matches the product name\n",
    "    idx = df[df['Product_Name'] == product_name].index[0]\n",
    "    \n",
    "    # extracting pairwise similarity \n",
    "    sim_scores = list(enumerate(cosine_sim[idx]))\n",
    "    \n",
    "    # sorting similarity scores\n",
    "    sim_scores = sorted(sim_scores, key=lambda x: x[1], reverse=True)\n",
    "    \n",
    "    # 3 most similar products\n",
    "    sim_scores = sim_scores[1:3]\n",
    "    \n",
    "    # product indices\n",
    "    product_indices = [i[0] for i in sim_scores]\n",
    "    \n",
    "    return df['Product_Name'].iloc[product_indices]"
   ]
  },
  {
   "cell_type": "code",
   "execution_count": 3,
   "metadata": {},
   "outputs": [
    {
     "name": "stdout",
     "output_type": "stream",
     "text": [
      "Recommended Products for 'RSPCA Approved Chicken Livers':\n",
      "1    RSPCA Approved Chicken Giblets\n",
      "2     RSPCA Approved Chicken Frames\n",
      "Name: Product_Name, dtype: object\n"
     ]
    }
   ],
   "source": [
    "# recommending product\n",
    "recommended_products = recommend_products(\"RSPCA Approved Chicken Livers\")\n",
    "print(\"Recommended Products for 'RSPCA Approved Chicken Livers':\")\n",
    "print(recommended_products)"
   ]
  }
 ],
 "metadata": {
  "kernelspec": {
   "display_name": "Python 3",
   "language": "python",
   "name": "python3"
  },
  "language_info": {
   "codemirror_mode": {
    "name": "ipython",
    "version": 3
   },
   "file_extension": ".py",
   "mimetype": "text/x-python",
   "name": "python",
   "nbconvert_exporter": "python",
   "pygments_lexer": "ipython3",
   "version": "3.11.4"
  }
 },
 "nbformat": 4,
 "nbformat_minor": 2
}
