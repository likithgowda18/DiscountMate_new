{
 "cells": [
  {
   "cell_type": "code",
   "execution_count": 4,
   "metadata": {},
   "outputs": [],
   "source": [
    "import pandas as pd\n",
    "from sklearn.preprocessing import OneHotEncoder\n",
    "from sklearn.neighbors import NearestNeighbors"
   ]
  },
  {
   "cell_type": "code",
   "execution_count": 7,
   "metadata": {},
   "outputs": [],
   "source": [
    "data = {\n",
    "    \"Product_Name\": [\"RSPCA Approved Chicken Livers\",\"RSPCA Approved Chicken Giblets\",\"RSPCA Approved Chicken Frames\",\"Creme Gold Washed Potatoes Loose\",\n",
    "                     \"Baby White Potatoes Prepacked\",\"Potatoes Prepacked\",\"Happy Gut Wholemeal\",\"Low Carb Bread\",\"Happy Gut Multigrain\"],  \n",
    "    \"Category\": [\"Meat & seafood\", \"Meat & seafood\",\"Meat & seafood\",\"Fruit & vegetables\",\"Fruit & vegetables\",\"Fruit & vegetables\",\"Bakery\",\"Bakery\",\"Bakery\"],\n",
    "    \"Sub_category\": [\"Poultry\", \"Poultry\",\"Poultry\",\"Vegetables\", \"Vegetables\", \"Vegetables\",\"Packaged Breads\",\"Packaged Breads\",\"Packaged Breads\"],\n",
    "    \"Product_Group\": [\"Chicken offal\", \"Chicken offal\", \"Chicken offal\",\"Potatoes\",\"Potatoes\",\"Potatoes\",\"Digestive Health & Speciality Bread\",\n",
    "                      \"Digestive Health & Speciality Bread\",\"Digestive Health & Speciality Bread\"],\n",
    "    \"Brand\": [\"Coles\",\"Coles\",\"Coles\",\"Coles\",\"Coles\",\"Spud Lite\",\"Coles\",\"Herman Brot\",\"Coles\"],\n",
    "    \"Sku\": [\"1718058P\",\"2565429P\",\"3199541P\",\"1182162P\",\"2488485P\",\"3026441P\",\"4727962P\",\"4654122P\",\"4727995P\"]\n",
    "}\n",
    "\n",
    "df = pd.DataFrame(data)\n",
    "\n",
    "# encoding categorical features\n",
    "encoder = OneHotEncoder()\n",
    "encoded_features = encoder.fit_transform(df[[\"Category\", \"Sub_category\", \"Product_Group\", \"Brand\"]])\n",
    "\n",
    "# KNN model\n",
    "knn = NearestNeighbors(n_neighbors=3, metric='euclidean')\n",
    "knn.fit(encoded_features)\n",
    "\n",
    "# cross-selling function\n",
    "def recommend_similar_products(product_name, k=3):\n",
    "    # index of the product\n",
    "    product_idx = df[df[\"Product_Name\"] == product_name].index[0]\n",
    "    \n",
    "    # feature vector for the product\n",
    "    product_vector = encoded_features[product_idx]\n",
    "    \n",
    "    # reshaping the product vector to be a 2D array\n",
    "    product_vector = product_vector.reshape(1, -1)\n",
    "    \n",
    "    # k nearest neighbors\n",
    "    distances, indices = knn.kneighbors(product_vector, n_neighbors=k+1)\n",
    "    \n",
    "    # recommended products\n",
    "    recommended_indices = indices[0][1:]  # Exclude the first item as it is the input product itself\n",
    "    recommended_products = df.iloc[recommended_indices][\"Product_Name\"].values\n",
    "    \n",
    "    return recommended_products"
   ]
  },
  {
   "cell_type": "code",
   "execution_count": 8,
   "metadata": {},
   "outputs": [
    {
     "name": "stdout",
     "output_type": "stream",
     "text": [
      "Products similar to 'RSPCA Approved Chicken Livers': ['RSPCA Approved Chicken Livers' 'RSPCA Approved Chicken Giblets'\n",
      " 'Creme Gold Washed Potatoes Loose']\n"
     ]
    }
   ],
   "source": [
    "# example usage\n",
    "product_name = \"RSPCA Approved Chicken Livers\"\n",
    "recommended_products = recommend_similar_products(product_name, k=3)\n",
    "print(f\"Products similar to '{product_name}': {recommended_products}\")"
   ]
  }
 ],
 "metadata": {
  "kernelspec": {
   "display_name": "Python 3",
   "language": "python",
   "name": "python3"
  },
  "language_info": {
   "codemirror_mode": {
    "name": "ipython",
    "version": 3
   },
   "file_extension": ".py",
   "mimetype": "text/x-python",
   "name": "python",
   "nbconvert_exporter": "python",
   "pygments_lexer": "ipython3",
   "version": "3.11.4"
  }
 },
 "nbformat": 4,
 "nbformat_minor": 2
}
